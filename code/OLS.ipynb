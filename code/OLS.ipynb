{
 "cells": [
  {
   "cell_type": "code",
   "execution_count": 1,
   "metadata": {},
   "outputs": [
    {
     "name": "stderr",
     "output_type": "stream",
     "text": [
      "/Users/jeong-giho/Desktop/financial_python/finance/lib/python3.9/site-packages/sklearn/utils/deprecation.py:87: FutureWarning: Function load_boston is deprecated; `load_boston` is deprecated in 1.0 and will be removed in 1.2.\n",
      "\n",
      "    The Boston housing prices dataset has an ethical problem. You can refer to\n",
      "    the documentation of this function for further details.\n",
      "\n",
      "    The scikit-learn maintainers therefore strongly discourage the use of this\n",
      "    dataset unless the purpose of the code is to study and educate about\n",
      "    ethical issues in data science and machine learning.\n",
      "\n",
      "    In this special case, you can fetch the dataset from the original\n",
      "    source::\n",
      "\n",
      "        import pandas as pd\n",
      "        import numpy as np\n",
      "\n",
      "\n",
      "        data_url = \"http://lib.stat.cmu.edu/datasets/boston\"\n",
      "        raw_df = pd.read_csv(data_url, sep=\"\\s+\", skiprows=22, header=None)\n",
      "        data = np.hstack([raw_df.values[::2, :], raw_df.values[1::2, :2]])\n",
      "        target = raw_df.values[1::2, 2]\n",
      "\n",
      "    Alternative datasets include the California housing dataset (i.e.\n",
      "    :func:`~sklearn.datasets.fetch_california_housing`) and the Ames housing\n",
      "    dataset. You can load the datasets as follows::\n",
      "\n",
      "        from sklearn.datasets import fetch_california_housing\n",
      "        housing = fetch_california_housing()\n",
      "\n",
      "    for the California housing dataset and::\n",
      "\n",
      "        from sklearn.datasets import fetch_openml\n",
      "        housing = fetch_openml(name=\"house_prices\", as_frame=True)\n",
      "\n",
      "    for the Ames housing dataset.\n",
      "    \n",
      "  warnings.warn(msg, category=FutureWarning)\n"
     ]
    }
   ],
   "source": [
    "import pandas as pd\n",
    "import numpy as np\n",
    "from sklearn.datasets import load_boston\n",
    "\n",
    "housing = load_boston()"
   ]
  },
  {
   "cell_type": "code",
   "execution_count": 2,
   "metadata": {},
   "outputs": [],
   "source": [
    "feature = pd.DataFrame(housing.data, columns=housing.feature_names)\n",
    "target = pd.DataFrame(housing.target, columns=['MEDV'])"
   ]
  },
  {
   "cell_type": "code",
   "execution_count": 3,
   "metadata": {},
   "outputs": [
    {
     "name": "stdout",
     "output_type": "stream",
     "text": [
      "             CRIM        ZN     INDUS      CHAS       NOX        RM       AGE  \\\n",
      "CRIM     1.000000 -0.200469  0.406583 -0.055892  0.420972 -0.219247  0.352734   \n",
      "ZN      -0.200469  1.000000 -0.533828 -0.042697 -0.516604  0.311991 -0.569537   \n",
      "INDUS    0.406583 -0.533828  1.000000  0.062938  0.763651 -0.391676  0.644779   \n",
      "CHAS    -0.055892 -0.042697  0.062938  1.000000  0.091203  0.091251  0.086518   \n",
      "NOX      0.420972 -0.516604  0.763651  0.091203  1.000000 -0.302188  0.731470   \n",
      "RM      -0.219247  0.311991 -0.391676  0.091251 -0.302188  1.000000 -0.240265   \n",
      "AGE      0.352734 -0.569537  0.644779  0.086518  0.731470 -0.240265  1.000000   \n",
      "DIS     -0.379670  0.664408 -0.708027 -0.099176 -0.769230  0.205246 -0.747881   \n",
      "RAD      0.625505 -0.311948  0.595129 -0.007368  0.611441 -0.209847  0.456022   \n",
      "TAX      0.582764 -0.314563  0.720760 -0.035587  0.668023 -0.292048  0.506456   \n",
      "PTRATIO  0.289946 -0.391679  0.383248 -0.121515  0.188933 -0.355501  0.261515   \n",
      "B       -0.385064  0.175520 -0.356977  0.048788 -0.380051  0.128069 -0.273534   \n",
      "LSTAT    0.455621 -0.412995  0.603800 -0.053929  0.590879 -0.613808  0.602339   \n",
      "MEDV    -0.388305  0.360445 -0.483725  0.175260 -0.427321  0.695360 -0.376955   \n",
      "\n",
      "              DIS       RAD       TAX   PTRATIO         B     LSTAT      MEDV  \n",
      "CRIM    -0.379670  0.625505  0.582764  0.289946 -0.385064  0.455621 -0.388305  \n",
      "ZN       0.664408 -0.311948 -0.314563 -0.391679  0.175520 -0.412995  0.360445  \n",
      "INDUS   -0.708027  0.595129  0.720760  0.383248 -0.356977  0.603800 -0.483725  \n",
      "CHAS    -0.099176 -0.007368 -0.035587 -0.121515  0.048788 -0.053929  0.175260  \n",
      "NOX     -0.769230  0.611441  0.668023  0.188933 -0.380051  0.590879 -0.427321  \n",
      "RM       0.205246 -0.209847 -0.292048 -0.355501  0.128069 -0.613808  0.695360  \n",
      "AGE     -0.747881  0.456022  0.506456  0.261515 -0.273534  0.602339 -0.376955  \n",
      "DIS      1.000000 -0.494588 -0.534432 -0.232471  0.291512 -0.496996  0.249929  \n",
      "RAD     -0.494588  1.000000  0.910228  0.464741 -0.444413  0.488676 -0.381626  \n",
      "TAX     -0.534432  0.910228  1.000000  0.460853 -0.441808  0.543993 -0.468536  \n",
      "PTRATIO -0.232471  0.464741  0.460853  1.000000 -0.177383  0.374044 -0.507787  \n",
      "B        0.291512 -0.444413 -0.441808 -0.177383  1.000000 -0.366087  0.333461  \n",
      "LSTAT   -0.496996  0.488676  0.543993  0.374044 -0.366087  1.000000 -0.737663  \n",
      "MEDV     0.249929 -0.381626 -0.468536 -0.507787  0.333461 -0.737663  1.000000  \n"
     ]
    }
   ],
   "source": [
    "total = pd.concat([feature,target], axis=1)\n",
    "print(total.corr())"
   ]
  },
  {
   "cell_type": "code",
   "execution_count": 4,
   "metadata": {},
   "outputs": [
    {
     "data": {
      "text/plain": [
       "<seaborn.axisgrid.PairGrid at 0x11a89ca90>"
      ]
     },
     "execution_count": 4,
     "metadata": {},
     "output_type": "execute_result"
    },
    {
     "data": {
      "image/png": "[encoded data removed]",
      "text/plain": [
       "<Figure size 360x360 with 6 Axes>"
      ]
     },
     "metadata": {
      "needs_background": "light"
     },
     "output_type": "display_data"
    }
   ],
   "source": [
    "import matplotlib.pyplot as plt\n",
    "import seaborn as sns\n",
    "\n",
    "sns.pairplot(pd.concat([feature['RM'], target], axis= 1), kind='reg')"
   ]
  },
  {
   "cell_type": "code",
   "execution_count": 5,
   "metadata": {},
   "outputs": [
    {
     "name": "stdout",
     "output_type": "stream",
     "text": [
      "                            OLS Regression Results                            \n",
      "==============================================================================\n",
      "Dep. Variable:                   MEDV   R-squared:                       0.484\n",
      "Model:                            OLS   Adj. R-squared:                  0.483\n",
      "Method:                 Least Squares   F-statistic:                     471.8\n",
      "Date:                Tue, 19 Apr 2022   Prob (F-statistic):           2.49e-74\n",
      "Time:                        15:28:57   Log-Likelihood:                -1673.1\n",
      "No. Observations:                 506   AIC:                             3350.\n",
      "Df Residuals:                     504   BIC:                             3359.\n",
      "Df Model:                           1                                         \n",
      "Covariance Type:            nonrobust                                         \n",
      "==============================================================================\n",
      "                 coef    std err          t      P>|t|      [0.025      0.975]\n",
      "------------------------------------------------------------------------------\n",
      "const        -34.6706      2.650    -13.084      0.000     -39.877     -29.465\n",
      "RM             9.1021      0.419     21.722      0.000       8.279       9.925\n",
      "==============================================================================\n",
      "Omnibus:                      102.585   Durbin-Watson:                   0.684\n",
      "Prob(Omnibus):                  0.000   Jarque-Bera (JB):              612.449\n",
      "Skew:                           0.726   Prob(JB):                    1.02e-133\n",
      "Kurtosis:                       8.190   Cond. No.                         58.4\n",
      "==============================================================================\n",
      "\n",
      "Notes:\n",
      "[1] Standard Errors assume that the covariance matrix of the errors is correctly specified.\n"
     ]
    }
   ],
   "source": [
    "import statsmodels.api as sm\n",
    "\n",
    "model = sm.OLS(target, sm.add_constant(feature['RM'])).fit()\n",
    "print(model.summary())"
   ]
  },
  {
   "cell_type": "code",
   "execution_count": 6,
   "metadata": {},
   "outputs": [
    {
     "data": {
      "image/png": "[encoded data removed]",
      "text/plain": [
       "<Figure size 432x288 with 1 Axes>"
      ]
     },
     "metadata": {
      "needs_background": "light"
     },
     "output_type": "display_data"
    }
   ],
   "source": [
    "# 한글폰트 출력 가능 코드\n",
    "from matplotlib import rc\n",
    "rc('font', family='AppleGothic') # Mac Os\n",
    "#rc('font', family='NanumGothic') # Windows Os\n",
    "plt.rcParams['axes.unicode_minus'] = False\n",
    "\n",
    "# 회귀선 도출\n",
    "target_pred = model.predict()\n",
    "\n",
    "plt.scatter(feature['RM'], target, marker='+', label='$MEDV_i$ 실제 관측치')\n",
    "plt.plot(feature['RM'], target_pred, color = 'g', label='$\\hat{MEDV}_i$ 회귀선')\n",
    "plt.hlines(target.mean(), feature['RM'].min(), feature['RM'].max(), color = 'r', label='$MEDV_i$ 평균선')\n",
    "plt.legend()\n",
    "plt.xlabel('RM : Room number')\n",
    "plt.ylabel('MEDV : Median value of owner-occupied homes')\n",
    "plt.show()"
   ]
  },
  {
   "cell_type": "code",
   "execution_count": 7,
   "metadata": {},
   "outputs": [],
   "source": [
    "target_array = housing.target"
   ]
  },
  {
   "cell_type": "code",
   "execution_count": 14,
   "metadata": {},
   "outputs": [
    {
     "name": "stdout",
     "output_type": "stream",
     "text": [
      "매서드로 구한 결정계수 R-squared :  0.48353\n",
      "직접 구한 결정계수 R-squared :  0.48353\n"
     ]
    }
   ],
   "source": [
    "# y_hat 도출\n",
    "target_pred1 = model.predict()\n",
    "\n",
    "# SST(편차의 제곱, 총변동), SSR(편차와 잔차의 차이 제곱 : 회귀식으로 설명가능한 변동), SSE(잔차의 제곱 : 회귀식으로 설명하지 못하는 변동)\n",
    "SST = sum((target_array - target_array.mean()) ** 2)\n",
    "SSR = sum((target_pred1 - target_array.mean()) ** 2)\n",
    "SSE = sum((model.resid) ** 2)\n",
    "\n",
    "r_squared = (1 - (SSE/SST))\n",
    "\n",
    "print(f'매서드로 구한 결정계수 R-squared : {model.rsquared : .5f}')\n",
    "print(f'직접 구한 결정계수 R-squared : {r_squared : .5f}')"
   ]
  },
  {
   "cell_type": "code",
   "execution_count": 15,
   "metadata": {},
   "outputs": [
    {
     "name": "stdout",
     "output_type": "stream",
     "text": [
      "매서드로 구한 조정된 결정계수 Adj R-squared :  0.48250\n",
      "직접 구한 조정된 결정계수 Adj R-squared :  0.48250\n"
     ]
    }
   ],
   "source": [
    "n = model.nobs\n",
    "k = 1\n",
    "\n",
    "adj_r_squared = 1 - (SSE / (n - k - 1)) / (SST / (n - 1)) \n",
    "\n",
    "print(f'매서드로 구한 조정된 결정계수 Adj R-squared : {model.rsquared_adj : .5f}')\n",
    "print(f'직접 구한 조정된 결정계수 Adj R-squared : {adj_r_squared : .5f}')"
   ]
  },
  {
   "cell_type": "code",
   "execution_count": 16,
   "metadata": {},
   "outputs": [
    {
     "name": "stdout",
     "output_type": "stream",
     "text": [
      "매서드로 구한 F 값 :  471.84674\n",
      "MSE, MSR로 구한 F 값 :  471.84674\n",
      "결정계수로 구한 F 값 :  471.84674\n"
     ]
    }
   ],
   "source": [
    "# MSE, MSR로 F 값 구하는 법\n",
    "# SSR, SSE는 분산으로서 카이제곱 분포를 따르고 카이제곱 분포를 따르는 두 변수의 비율은 F분포를 따른다.\n",
    "MSR = SSR/(2-1)\n",
    "MSE = SSE/(n - k - 1)\n",
    "\n",
    "# F 값은 회귀식으로 설명 가능한 변동이 설명하지 못하는 변동에 대해 어느정도의 비율을 가지고 있는지 알 수 있음.\n",
    "F1 = MSR/MSE\n",
    "\n",
    "# 결정계수로 F 값 구하는 법\n",
    "F2 = r_squared/( (1-r_squared) / (n-k-1) )\n",
    "\n",
    "print(f'매서드로 구한 F 값 : {model.fvalue : .5f}')\n",
    "print(f'MSE, MSR로 구한 F 값 : {F1 : .5f}')\n",
    "print(f'결정계수로 구한 F 값 : {F2 : .5f}')"
   ]
  },
  {
   "cell_type": "code",
   "execution_count": 10,
   "metadata": {},
   "outputs": [
    {
     "name": "stdout",
     "output_type": "stream",
     "text": [
      "매서드로 구한 회귀계수 coef β :  9.10211\n",
      "직접 구한 회귀계수 coef β :  9.10211\n"
     ]
    }
   ],
   "source": [
    "# 회귀계수\n",
    "y = np.array(target_array - target_array.mean())\n",
    "x = np.array(feature['RM'] - feature['RM'].mean())\n",
    "\n",
    "beta = np.sum(x * y) / np.sum(x **2)\n",
    "\n",
    "print(f'매서드로 구한 회귀계수 coef \\u03B2 : {model.params[1] : .5f}')\n",
    "print(f'직접 구한 회귀계수 coef \\u03B2 : { beta : .5f}')"
   ]
  },
  {
   "cell_type": "code",
   "execution_count": 11,
   "metadata": {},
   "outputs": [
    {
     "name": "stdout",
     "output_type": "stream",
     "text": [
      "feature, target의 상관계수 :  0.69536\n",
      "상관계수 = 회귀계수 * (x^2/y^2)^0.5 :  0.69536\n"
     ]
    }
   ],
   "source": [
    "# 참고 (회귀계수와 상관계수의 관계)\n",
    "from scipy import stats\n",
    "\n",
    "print(f'feature, target의 상관계수 : {stats.pearsonr(feature.RM, target_array)[0] : .5f}')\n",
    "print(f'상관계수 = 회귀계수 * (x^2/y^2)^0.5 : {beta * ((sum(x ** 2) / sum(y ** 2)) ** 0.5) : .5f}')"
   ]
  },
  {
   "cell_type": "code",
   "execution_count": 12,
   "metadata": {},
   "outputs": [
    {
     "name": "stdout",
     "output_type": "stream",
     "text": [
      "매서드로 구한 회귀계수의 표준편차 se(β) :  0.41903\n",
      "직접 구한 회귀계수의 표준편차 se(β) :  0.41903\n"
     ]
    }
   ],
   "source": [
    "# 회귀계수의 표준편차\n",
    "var_error = np.sum((model.resid) ** 2) / model.df_resid\n",
    "deviation_x = np.sum((feature['RM'] - feature['RM'].mean()) ** 2)   \n",
    "\n",
    "std_beta = (var_error/deviation_x) ** 0.5\n",
    "\n",
    "print(f'매서드로 구한 회귀계수의 표준편차 se(\\u03B2) : {model.cov_params()[\"RM\"][1] ** 0.5 : .5f}')\n",
    "print(f'직접 구한 회귀계수의 표준편차 se(\\u03B2) : { std_beta : .5f}')"
   ]
  },
  {
   "cell_type": "code",
   "execution_count": 13,
   "metadata": {},
   "outputs": [
    {
     "name": "stdout",
     "output_type": "stream",
     "text": [
      "매서드로 구한 회귀계수(β)의 t값 :  21.72203\n",
      "직접 구한 회귀계수(β)의 t값 :  21.72203\n"
     ]
    }
   ],
   "source": [
    "# 회귀계수의 t값\n",
    "t_beta = beta/std_beta\n",
    "\n",
    "print(f'매서드로 구한 회귀계수(\\u03B2)의 t값 : {model.tvalues[1] : .5f}')\n",
    "print(f'직접 구한 회귀계수(\\u03B2)의 t값 : { t_beta : .5f}')"
   ]
  }
 ],
 "metadata": {
  "interpreter": {
   "hash": "1c6f91c552d8479e3986f5caf349a58b210669ba9b1803fb45a7d5d33a90e7ee"
  },
  "kernelspec": {
   "display_name": "Python 3.9.7 ('finance': venv)",
   "language": "python",
   "name": "python3"
  },
  "language_info": {
   "codemirror_mode": {
    "name": "ipython",
    "version": 3
   },
   "file_extension": ".py",
   "mimetype": "text/x-python",
   "name": "python",
   "nbconvert_exporter": "python",
   "pygments_lexer": "ipython3",
   "version": "3.9.7"
  },
  "orig_nbformat": 4
 },
 "nbformat": 4,
 "nbformat_minor": 2
}
