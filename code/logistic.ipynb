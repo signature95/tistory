{
 "cells": [
  {
   "cell_type": "code",
   "execution_count": 1,
   "metadata": {},
   "outputs": [],
   "source": [
    "import pandas as pd\n",
    "import numpy as np\n",
    "import matplotlib.pyplot as plt\n",
    "import seaborn as sns\n",
    "# 한글폰트 출력 가능 코드\n",
    "from matplotlib import rc\n",
    "rc('font', family='AppleGothic') # Mac Os\n",
    "#rc('font', family='NanumGothic') # Windows Os\n",
    "plt.rcParams['axes.unicode_minus'] = False"
   ]
  },
  {
   "cell_type": "markdown",
   "metadata": {},
   "source": [
    "# 데이터 불러오기 및 전처리 시행"
   ]
  },
  {
   "cell_type": "code",
   "execution_count": 2,
   "metadata": {},
   "outputs": [],
   "source": [
    "train = pd.read_csv('https://raw.githubusercontent.com/signature95/tistory/main/code/titanic_train.csv')\n",
    "test = pd.read_csv(f'https://raw.githubusercontent.com/signature95/tistory/main/code/titanic_test.csv')"
   ]
  },
  {
   "cell_type": "code",
   "execution_count": 4,
   "metadata": {},
   "outputs": [],
   "source": [
    "train0 = train.drop(['Age', 'Cabin'], axis = 1)\n",
    "test0 = test.drop(['Age', 'Cabin'], axis = 1)"
   ]
  },
  {
   "cell_type": "code",
   "execution_count": 5,
   "metadata": {},
   "outputs": [
    {
     "data": {
      "text/plain": [
       "PassengerId    0\n",
       "Survived       0\n",
       "Pclass         0\n",
       "Name           0\n",
       "Sex            0\n",
       "SibSp          0\n",
       "Parch          0\n",
       "Ticket         0\n",
       "Fare           0\n",
       "Embarked       0\n",
       "dtype: int64"
      ]
     },
     "execution_count": 5,
     "metadata": {},
     "output_type": "execute_result"
    }
   ],
   "source": [
    "#train0에서 Embarked가 결측인 두 행을 제거합니다.\n",
    "train0 = train0.dropna()\n",
    "#제거 여부 확인해봅니다.\n",
    "train0.isna().sum()"
   ]
  },
  {
   "cell_type": "code",
   "execution_count": 6,
   "metadata": {},
   "outputs": [
    {
     "name": "stderr",
     "output_type": "stream",
     "text": [
      "/var/folders/1v/ctxpzb994v98h43xyk972tmc0000gn/T/ipykernel_4595/3973668754.py:2: FutureWarning: Dropping of nuisance columns in DataFrame reductions (with 'numeric_only=None') is deprecated; in a future version this will raise TypeError.  Select only valid columns before calling the reduction.\n",
      "  test0 = test0.fillna(test0.mean())\n"
     ]
    },
    {
     "data": {
      "text/plain": [
       "PassengerId    0\n",
       "Pclass         0\n",
       "Name           0\n",
       "Sex            0\n",
       "SibSp          0\n",
       "Parch          0\n",
       "Ticket         0\n",
       "Fare           0\n",
       "Embarked       0\n",
       "dtype: int64"
      ]
     },
     "execution_count": 6,
     "metadata": {},
     "output_type": "execute_result"
    }
   ],
   "source": [
    "#test0에서 결측된 Fare값을 평균으로 대체합니다.\n",
    "test0 = test0.fillna(test0.mean())\n",
    "#처리 여부를 확인해봅니다.\n",
    "test0.isna().sum()"
   ]
  },
  {
   "cell_type": "code",
   "execution_count": 7,
   "metadata": {},
   "outputs": [],
   "source": [
    "#Name변수와 Ticket 변수를 제거합니다.\n",
    "train1 = train0.drop(['Name', 'Ticket'], axis = 1)\n",
    "test1 = test0.drop(['Name', 'Ticket'], axis = 1)"
   ]
  },
  {
   "cell_type": "code",
   "execution_count": 8,
   "metadata": {},
   "outputs": [],
   "source": [
    "#Sex데이터를 숫자형으로 변환합니다.\n",
    "train1['Sex'] = train1['Sex'].map( {'female': 1, 'male': 0} ).astype(int)\n",
    "test1['Sex'] = test1['Sex'].map( {'female': 1, 'male': 0} ).astype(int)"
   ]
  },
  {
   "cell_type": "code",
   "execution_count": 9,
   "metadata": {},
   "outputs": [],
   "source": [
    "#Embarked 데이터를 숫자형으로 변환합니다.\n",
    "train1['Embarked'] = train1['Embarked'].map( {'C': 0, 'Q': 1, 'S':2} ).astype(int)\n",
    "test1['Embarked'] = test1['Embarkeㅁd'].map( {'C': 0, 'Q': 1, 'S':2} ).astype(int)"
   ]
  },
  {
   "cell_type": "markdown",
   "metadata": {},
   "source": [
    "# 전처리 후 데이터 불러오기"
   ]
  },
  {
   "cell_type": "code",
   "execution_count": 19,
   "metadata": {},
   "outputs": [],
   "source": [
    "train = pd.read_csv('https://raw.githubusercontent.com/signature95/tistory/main/code/preprocessing_titanic_train.csv', index_col='Unnamed: 0')\n",
    "test = pd.read_csv(f'https://raw.githubusercontent.com/signature95/tistory/main/code/preprocessing_titanic_test.csv', index_col='Unnamed: 0')"
   ]
  },
  {
   "cell_type": "code",
   "execution_count": 20,
   "metadata": {},
   "outputs": [
    {
     "data": {
      "text/plain": [
       "((889, 6), (889,), (418, 6))"
      ]
     },
     "execution_count": 20,
     "metadata": {},
     "output_type": "execute_result"
    }
   ],
   "source": [
    "#모델의 훈련을 위하여 설명변수와 반응변수를 분리합니다.\n",
    "X_train = train.drop([\"PassengerId\",\"Survived\"], axis=1)\n",
    "Y_train = train[\"Survived\"]\n",
    "\n",
    "X_test  = test.drop(\"PassengerId\", axis=1).copy()\n",
    "X_train.shape, Y_train.shape, X_test.shape"
   ]
  },
  {
   "cell_type": "code",
   "execution_count": 35,
   "metadata": {},
   "outputs": [
    {
     "name": "stdout",
     "output_type": "stream",
     "text": [
      "Optimization terminated successfully.\n",
      "         Current function value: 0.456726\n",
      "         Iterations 6\n",
      "                           Logit Regression Results                           \n",
      "==============================================================================\n",
      "Dep. Variable:               Survived   No. Observations:                  889\n",
      "Model:                          Logit   Df Residuals:                      882\n",
      "Method:                           MLE   Df Model:                            6\n",
      "Date:                Mon, 21 Feb 2022   Pseudo R-squ.:                  0.3135\n",
      "Time:                        17:36:40   Log-Likelihood:                -406.03\n",
      "converged:                       True   LL-Null:                       -591.41\n",
      "Covariance Type:            nonrobust   LLR p-value:                 5.378e-77\n",
      "==============================================================================\n",
      "                 coef    std err          z      P>|z|      [0.025      0.975]\n",
      "------------------------------------------------------------------------------\n",
      "const          0.7696      0.370      2.078      0.038       0.044       1.495\n",
      "Pclass        -0.8365      0.127     -6.583      0.000      -1.086      -0.587\n",
      "Sex            2.7316      0.196     13.923      0.000       2.347       3.116\n",
      "SibSp         -0.2343      0.101     -2.321      0.020      -0.432      -0.036\n",
      "Parch         -0.0741      0.114     -0.652      0.514      -0.297       0.149\n",
      "Fare           0.0025      0.002      1.036      0.300      -0.002       0.007\n",
      "Embarked      -0.2352      0.112     -2.103      0.035      -0.454      -0.016\n",
      "==============================================================================\n"
     ]
    }
   ],
   "source": [
    "import statsmodels.api as sm\n",
    "\n",
    "logreg = sm.Logit(Y_train, sm.add_constant(X_train)).fit()\n",
    "print(logreg.summary())"
   ]
  },
  {
   "cell_type": "code",
   "execution_count": 22,
   "metadata": {},
   "outputs": [
    {
     "name": "stdout",
     "output_type": "stream",
     "text": [
      "변수 Pclass의 logit : -0.625\n",
      "변수 Pclass가 1단위 증가할 때, 생존할 로짓(odds ratio에 자연로그를 취한 값)이-0.625배 증가한다.\n",
      "변수 Pclass의 odds ratio :  0.535\n",
      "변수 Pclass가 1단위 증가할 때, 생존할 확률(종속변수가 1일 확률)이 그렇지 않을 경우보다 0.535배 증가한다.\n",
      "\n",
      "변수 Sex의 logit :  2.747\n",
      "변수 Sex가 1단위 증가할 때, 생존할 로짓(odds ratio에 자연로그를 취한 값)이 2.747배 증가한다.\n",
      "변수 Sex의 odds ratio :  15.599\n",
      "변수 Sex가 1단위 증가할 때, 생존할 확률(종속변수가 1일 확률)이 그렇지 않을 경우보다 15.599배 증가한다.\n",
      "\n",
      "변수 SibSp의 logit : -0.257\n",
      "변수 SibSp가 1단위 증가할 때, 생존할 로짓(odds ratio에 자연로그를 취한 값)이-0.257배 증가한다.\n",
      "변수 SibSp의 odds ratio :  0.773\n",
      "변수 SibSp가 1단위 증가할 때, 생존할 확률(종속변수가 1일 확률)이 그렇지 않을 경우보다 0.773배 증가한다.\n",
      "\n",
      "변수 Parch의 logit : -0.103\n",
      "변수 Parch가 1단위 증가할 때, 생존할 로짓(odds ratio에 자연로그를 취한 값)이-0.103배 증가한다.\n",
      "변수 Parch의 odds ratio :  0.902\n",
      "변수 Parch가 1단위 증가할 때, 생존할 확률(종속변수가 1일 확률)이 그렇지 않을 경우보다 0.902배 증가한다.\n",
      "\n",
      "변수 Fare의 logit :  0.006\n",
      "변수 Fare가 1단위 증가할 때, 생존할 로짓(odds ratio에 자연로그를 취한 값)이 0.006배 증가한다.\n",
      "변수 Fare의 odds ratio :  1.006\n",
      "변수 Fare가 1단위 증가할 때, 생존할 확률(종속변수가 1일 확률)이 그렇지 않을 경우보다 1.006배 증가한다.\n",
      "\n",
      "변수 Embarked의 logit : -0.124\n",
      "변수 Embarked가 1단위 증가할 때, 생존할 로짓(odds ratio에 자연로그를 취한 값)이-0.124배 증가한다.\n",
      "변수 Embarked의 odds ratio :  0.884\n",
      "변수 Embarked가 1단위 증가할 때, 생존할 확률(종속변수가 1일 확률)이 그렇지 않을 경우보다 0.884배 증가한다.\n",
      "\n"
     ]
    }
   ],
   "source": [
    "# odds ratio 구하는 부분\n",
    "odds = np.exp(logreg.params)\n",
    "\n",
    "for i in range(len(odds)):\n",
    "    print(f'변수 {X_train.columns[i]}의 logit : {logreg.params[i] : .3f}')\n",
    "    print(f'변수 {X_train.columns[i]}가 1단위 증가할 때, 생존할 로짓(odds ratio에 자연로그를 취한 값)이{logreg.params[i] : .3f}배 증가한다.')\n",
    "    print(f'변수 {X_train.columns[i]}의 odds ratio : {odds[i] : .3f}')\n",
    "    print(f'변수 {X_train.columns[i]}가 1단위 증가할 때, 생존할 확률(종속변수가 1일 확률)이 그렇지 않을 경우보다{odds[i] : .3f}배 증가한다.\\n')"
   ]
  },
  {
   "cell_type": "code",
   "execution_count": 24,
   "metadata": {},
   "outputs": [
    {
     "name": "stdout",
     "output_type": "stream",
     "text": [
      "             logit  odds ratio  p-value above 5.0%\n",
      "Pclass   -0.624685    0.535430   0.0000        Yes\n",
      "Sex       2.747236   15.599452   0.0000        Yes\n",
      "SibSp    -0.257217    0.773200   0.0098        Yes\n",
      "Parch    -0.102936    0.902184   0.3614         No\n",
      "Fare      0.005845    1.005862   0.0044        Yes\n",
      "Embarked -0.123848    0.883514   0.2097         No\n"
     ]
    }
   ],
   "source": [
    "sig_level = .05\n",
    "logistic_variable = pd.concat([logreg.params, np.exp(logreg.params), np.round(logreg.pvalues,4)], axis=1)\n",
    "logistic_variable.columns = ['logit', 'odds ratio', 'p-value']\n",
    "logistic_variable.loc[logistic_variable['p-value'] > sig_level, f'above {sig_level*100}%'] = 'No'\n",
    "logistic_variable.loc[logistic_variable['p-value'] < sig_level, f'above {sig_level*100}%'] = 'Yes'\n",
    "print(logistic_variable)"
   ]
  },
  {
   "cell_type": "code",
   "execution_count": 33,
   "metadata": {},
   "outputs": [],
   "source": [
    "def logistic_variable(X_train,Y_train, sig_level=.05, output = True):\n",
    "    import statsmodels.api as sm\n",
    "    import numpy as np\n",
    "    import pandas as pd\n",
    "    \n",
    "    logistic_result = sm.Logit(Y_train, X_train).fit()\n",
    "    print(logistic_result.summary())\n",
    "    \n",
    "    odds = np.exp(logistic_result.params)\n",
    "    \n",
    "    if output == True:\n",
    "        for i in range(len(odds)):\n",
    "            print(f'변수 {X_train.columns[i]}가 1단위 증가할 때, 생존할 로짓(odds ratio에 자연로그를 취한 값)이{logistic_result.params[i] : .3f}배 증가한다.')\n",
    "            print(f'변수 {X_train.columns[i]}가 1단위 증가할 때, 생존할 확률(종속변수가 1일 확률)이 그렇지 않을 경우보다{odds[i] : .3f}배 증가한다.\\n')\n",
    "    else:\n",
    "        pass\n",
    "    \n",
    "    logistic_variable = pd.concat([logreg.params, np.exp(logreg.params), np.round(logreg.pvalues,4)], axis=1)\n",
    "    logistic_variable.columns = ['logit', 'odds ratio', 'p-value']\n",
    "    logistic_variable.loc[logistic_variable['p-value'] > sig_level, f'above {sig_level*100}%'] = 'No'\n",
    "    logistic_variable.loc[logistic_variable['p-value'] < sig_level, f'above {sig_level*100}%'] = 'Yes'\n",
    "\n",
    "    return logistic_variable"
   ]
  },
  {
   "cell_type": "code",
   "execution_count": 34,
   "metadata": {},
   "outputs": [
    {
     "name": "stdout",
     "output_type": "stream",
     "text": [
      "Optimization terminated successfully.\n",
      "         Current function value: 0.459106\n",
      "         Iterations 6\n",
      "                           Logit Regression Results                           \n",
      "==============================================================================\n",
      "Dep. Variable:               Survived   No. Observations:                  889\n",
      "Model:                          Logit   Df Residuals:                      883\n",
      "Method:                           MLE   Df Model:                            5\n",
      "Date:                Mon, 21 Feb 2022   Pseudo R-squ.:                  0.3099\n",
      "Time:                        17:27:57   Log-Likelihood:                -408.15\n",
      "converged:                       True   LL-Null:                       -591.41\n",
      "Covariance Type:            nonrobust   LLR p-value:                 4.834e-77\n",
      "==============================================================================\n",
      "                 coef    std err          z      P>|z|      [0.025      0.975]\n",
      "------------------------------------------------------------------------------\n",
      "Pclass        -0.6247      0.076     -8.239      0.000      -0.773      -0.476\n",
      "Sex            2.7472      0.193     14.209      0.000       2.368       3.126\n",
      "SibSp         -0.2572      0.100     -2.582      0.010      -0.452      -0.062\n",
      "Parch         -0.1029      0.113     -0.913      0.361      -0.324       0.118\n",
      "Fare           0.0058      0.002      2.846      0.004       0.002       0.010\n",
      "Embarked      -0.1238      0.099     -1.254      0.210      -0.317       0.070\n",
      "==============================================================================\n",
      "변수 Pclass가 1단위 증가할 때, 생존할 로짓(odds ratio에 자연로그를 취한 값)이-0.625배 증가한다.\n",
      "변수 Pclass가 1단위 증가할 때, 생존할 확률(종속변수가 1일 확률)이 그렇지 않을 경우보다 0.535배 증가한다.\n",
      "\n",
      "변수 Sex가 1단위 증가할 때, 생존할 로짓(odds ratio에 자연로그를 취한 값)이 2.747배 증가한다.\n",
      "변수 Sex가 1단위 증가할 때, 생존할 확률(종속변수가 1일 확률)이 그렇지 않을 경우보다 15.599배 증가한다.\n",
      "\n",
      "변수 SibSp가 1단위 증가할 때, 생존할 로짓(odds ratio에 자연로그를 취한 값)이-0.257배 증가한다.\n",
      "변수 SibSp가 1단위 증가할 때, 생존할 확률(종속변수가 1일 확률)이 그렇지 않을 경우보다 0.773배 증가한다.\n",
      "\n",
      "변수 Parch가 1단위 증가할 때, 생존할 로짓(odds ratio에 자연로그를 취한 값)이-0.103배 증가한다.\n",
      "변수 Parch가 1단위 증가할 때, 생존할 확률(종속변수가 1일 확률)이 그렇지 않을 경우보다 0.902배 증가한다.\n",
      "\n",
      "변수 Fare가 1단위 증가할 때, 생존할 로짓(odds ratio에 자연로그를 취한 값)이 0.006배 증가한다.\n",
      "변수 Fare가 1단위 증가할 때, 생존할 확률(종속변수가 1일 확률)이 그렇지 않을 경우보다 1.006배 증가한다.\n",
      "\n",
      "변수 Embarked가 1단위 증가할 때, 생존할 로짓(odds ratio에 자연로그를 취한 값)이-0.124배 증가한다.\n",
      "변수 Embarked가 1단위 증가할 때, 생존할 확률(종속변수가 1일 확률)이 그렇지 않을 경우보다 0.884배 증가한다.\n",
      "\n"
     ]
    },
    {
     "data": {
      "text/html": [
       "<div>\n",
       "<style scoped>\n",
       "    .dataframe tbody tr th:only-of-type {\n",
       "        vertical-align: middle;\n",
       "    }\n",
       "\n",
       "    .dataframe tbody tr th {\n",
       "        vertical-align: top;\n",
       "    }\n",
       "\n",
       "    .dataframe thead th {\n",
       "        text-align: right;\n",
       "    }\n",
       "</style>\n",
       "<table border=\"1\" class=\"dataframe\">\n",
       "  <thead>\n",
       "    <tr style=\"text-align: right;\">\n",
       "      <th></th>\n",
       "      <th>logit</th>\n",
       "      <th>odds ratio</th>\n",
       "      <th>p-value</th>\n",
       "      <th>above 5.0%</th>\n",
       "    </tr>\n",
       "  </thead>\n",
       "  <tbody>\n",
       "    <tr>\n",
       "      <th>Pclass</th>\n",
       "      <td>-0.624685</td>\n",
       "      <td>0.535430</td>\n",
       "      <td>0.0000</td>\n",
       "      <td>Yes</td>\n",
       "    </tr>\n",
       "    <tr>\n",
       "      <th>Sex</th>\n",
       "      <td>2.747236</td>\n",
       "      <td>15.599452</td>\n",
       "      <td>0.0000</td>\n",
       "      <td>Yes</td>\n",
       "    </tr>\n",
       "    <tr>\n",
       "      <th>SibSp</th>\n",
       "      <td>-0.257217</td>\n",
       "      <td>0.773200</td>\n",
       "      <td>0.0098</td>\n",
       "      <td>Yes</td>\n",
       "    </tr>\n",
       "    <tr>\n",
       "      <th>Parch</th>\n",
       "      <td>-0.102936</td>\n",
       "      <td>0.902184</td>\n",
       "      <td>0.3614</td>\n",
       "      <td>No</td>\n",
       "    </tr>\n",
       "    <tr>\n",
       "      <th>Fare</th>\n",
       "      <td>0.005845</td>\n",
       "      <td>1.005862</td>\n",
       "      <td>0.0044</td>\n",
       "      <td>Yes</td>\n",
       "    </tr>\n",
       "    <tr>\n",
       "      <th>Embarked</th>\n",
       "      <td>-0.123848</td>\n",
       "      <td>0.883514</td>\n",
       "      <td>0.2097</td>\n",
       "      <td>No</td>\n",
       "    </tr>\n",
       "  </tbody>\n",
       "</table>\n",
       "</div>"
      ],
      "text/plain": [
       "             logit  odds ratio  p-value above 5.0%\n",
       "Pclass   -0.624685    0.535430   0.0000        Yes\n",
       "Sex       2.747236   15.599452   0.0000        Yes\n",
       "SibSp    -0.257217    0.773200   0.0098        Yes\n",
       "Parch    -0.102936    0.902184   0.3614         No\n",
       "Fare      0.005845    1.005862   0.0044        Yes\n",
       "Embarked -0.123848    0.883514   0.2097         No"
      ]
     },
     "execution_count": 34,
     "metadata": {},
     "output_type": "execute_result"
    }
   ],
   "source": [
    "logistic_variable(X_train,Y_train, .05, True)"
   ]
  },
  {
   "cell_type": "code",
   "execution_count": 36,
   "metadata": {},
   "outputs": [
    {
     "name": "stdout",
     "output_type": "stream",
     "text": [
      "          Predicted 0  Predicted 1\n",
      "Actual 0        466.0         83.0\n",
      "Actual 1        103.0        237.0\n"
     ]
    },
    {
     "data": {
      "image/png": "[encoded data removed]",
      "text/plain": [
       "<Figure size 432x288 with 2 Axes>"
      ]
     },
     "metadata": {
      "needs_background": "light"
     },
     "output_type": "display_data"
    }
   ],
   "source": [
    "# 혼동행렬 (confusion matrix)\n",
    "cm_df = pd.DataFrame(logreg.pred_table())\n",
    "cm_df.columns = ['Predicted 0', 'Predicted 1']\n",
    "cm_df = cm_df.rename(index={0: 'Actual 0',1: 'Actual 1'})\n",
    "print(cm_df)\n",
    "\n",
    "sns.heatmap(cm_df, cmap = 'RdYlBu_r', annot = True, annot_kws={\"size\": 10}, linewidths=.5)\n",
    "plt.title('confusion matrix')\n",
    "plt.xlabel('actual')\n",
    "plt.ylabel('pred')\n",
    "plt.show()"
   ]
  },
  {
   "cell_type": "code",
   "execution_count": null,
   "metadata": {},
   "outputs": [],
   "source": []
  }
 ],
 "metadata": {
  "interpreter": {
   "hash": "aee8b7b246df8f9039afb4144a1f6fd8d2ca17a180786b69acc140d282b71a49"
  },
  "kernelspec": {
   "display_name": "Python 3.9.4 64-bit",
   "language": "python",
   "name": "python3"
  },
  "language_info": {
   "codemirror_mode": {
    "name": "ipython",
    "version": 3
   },
   "file_extension": ".py",
   "mimetype": "text/x-python",
   "name": "python",
   "nbconvert_exporter": "python",
   "pygments_lexer": "ipython3",
   "version": "3.9.4"
  },
  "orig_nbformat": 4
 },
 "nbformat": 4,
 "nbformat_minor": 2
}
