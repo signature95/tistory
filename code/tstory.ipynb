{
 "cells": [
  {
   "cell_type": "code",
   "execution_count": 2,
   "metadata": {},
   "outputs": [
    {
     "name": "stdout",
     "output_type": "stream",
     "text": [
      "        CRIM    ZN  INDUS  CHAS    NOX     RM   AGE     DIS  RAD  TAX  \\\n",
      "0    0.00632  18.0   2.31     0  0.538  6.575  65.2  4.0900    1  296   \n",
      "1    0.02731   0.0   7.07     0  0.469  6.421  78.9  4.9671    2  242   \n",
      "2    0.02729   0.0   7.07     0  0.469  7.185  61.1  4.9671    2  242   \n",
      "3    0.03237   0.0   2.18     0  0.458  6.998  45.8  6.0622    3  222   \n",
      "4    0.06905   0.0   2.18     0  0.458  7.147  54.2  6.0622    3  222   \n",
      "..       ...   ...    ...   ...    ...    ...   ...     ...  ...  ...   \n",
      "501  0.06263   0.0  11.93     0  0.573  6.593  69.1  2.4786    1  273   \n",
      "502  0.04527   0.0  11.93     0  0.573  6.120  76.7  2.2875    1  273   \n",
      "503  0.06076   0.0  11.93     0  0.573  6.976  91.0  2.1675    1  273   \n",
      "504  0.10959   0.0  11.93     0  0.573  6.794  89.3  2.3889    1  273   \n",
      "505  0.04741   0.0  11.93     0  0.573  6.030  80.8  2.5050    1  273   \n",
      "\n",
      "     PTRATIO       B  LSTAT  MEDV  CAT. MEDV  \n",
      "0       15.3  396.90   4.98  24.0          0  \n",
      "1       17.8  396.90   9.14  21.6          0  \n",
      "2       17.8  392.83   4.03  34.7          1  \n",
      "3       18.7  394.63   2.94  33.4          1  \n",
      "4       18.7  396.90   5.33  36.2          1  \n",
      "..       ...     ...    ...   ...        ...  \n",
      "501     21.0  391.99   9.67  22.4          0  \n",
      "502     21.0  396.90   9.08  20.6          0  \n",
      "503     21.0  396.90   5.64  23.9          0  \n",
      "504     21.0  393.45   6.48  22.0          0  \n",
      "505     21.0  396.90   7.88  11.9          0  \n",
      "\n",
      "[506 rows x 15 columns]\n"
     ]
    }
   ],
   "source": [
    "import pandas as pd\n",
    "import matplotlib.pyplot as plt\n",
    "import seaborn as sns\n",
    "import numpy as np\n",
    "\n",
    "data = pd.read_csv(\"https://raw.githubusercontent.com/signature95/tistory/main/dataset/boston.csv\")\n",
    "print(data)"
   ]
  },
  {
   "cell_type": "code",
   "execution_count": 28,
   "metadata": {},
   "outputs": [
    {
     "name": "stdout",
     "output_type": "stream",
     "text": [
      "0      24.0\n",
      "1      21.6\n",
      "2      34.7\n",
      "3      33.4\n",
      "4      36.2\n",
      "       ... \n",
      "501    22.4\n",
      "502    20.6\n",
      "503    23.9\n",
      "504    22.0\n",
      "505    11.9\n",
      "Name: MEDV, Length: 506, dtype: float64\n"
     ]
    },
    {
     "name": "stderr",
     "output_type": "stream",
     "text": [
      "/Library/Frameworks/Python.framework/Versions/3.9/lib/python3.9/site-packages/seaborn/_decorators.py:36: FutureWarning: Pass the following variable as a keyword arg: x. From version 0.12, the only valid positional argument will be `data`, and passing other arguments without an explicit keyword will result in an error or misinterpretation.\n",
      "  warnings.warn(\n"
     ]
    },
    {
     "data": {
      "image/png": "[encoded data removed]",
      "text/plain": [
       "<Figure size 432x288 with 1 Axes>"
      ]
     },
     "metadata": {
      "needs_background": "light"
     },
     "output_type": "display_data"
    }
   ],
   "source": [
    "# 데이터 보기\n",
    "\n",
    "print(data['MEDV'])\n",
    "\n",
    "sns.countplot(data['CHAS'], hue=data['CAT. MEDV'])\n",
    "plt.show()"
   ]
  },
  {
   "cell_type": "code",
   "execution_count": 29,
   "metadata": {},
   "outputs": [
    {
     "name": "stdout",
     "output_type": "stream",
     "text": [
      "해당 데이터의 컬럼 중 MEDV의 평균값(mean)은 22.532806324110677 입니다.\n"
     ]
    }
   ],
   "source": [
    "# 평균값 도출을 위한 함수입니다.\n",
    "def mean(data, column_name):\n",
    "    print(f'해당 데이터의 컬럼 중 {column_name}의 평균값(mean)은 {data[column_name].mean()} 입니다.')\n",
    "\n",
    "mean(data, 'MEDV')"
   ]
  },
  {
   "cell_type": "code",
   "execution_count": 85,
   "metadata": {},
   "outputs": [
    {
     "name": "stdout",
     "output_type": "stream",
     "text": [
      "22.532806324110698\n"
     ]
    }
   ],
   "source": [
    "n = len(data)\n",
    "\n",
    "# for 문을 활용한 MEDV 컬럼의 모든 데이터 합을 도출\n",
    "summation = 0\n",
    "for i in data['MEDV']:\n",
    "    summation += i\n",
    "\n",
    "# 데이터 합 / 데이터 개수 = 산술 평균 도출\n",
    "print(summation/n)"
   ]
  },
  {
   "cell_type": "code",
   "execution_count": 42,
   "metadata": {},
   "outputs": [
    {
     "name": "stdout",
     "output_type": "stream",
     "text": [
      "[ 4  1  4  2  8  1 10  9  5  5  2  3 10  1  1  5  2  6  2 10] 내의 모든 값을 곱하면 41472000000가 됩니다.\n",
      "해당 데이터의 기하평균 값은 3.395375018400461 입니다.\n"
     ]
    }
   ],
   "source": [
    "# 기하평균\n",
    "# 변수 설정\n",
    "tem_data = np.random.randint(1, 11, 20) # 1부터 10까지 random하게 int를 10개 도출\n",
    "mulScores = 1 # 곱셈에 대한 항등원 1\n",
    "\n",
    "# 항목들로 반복 (tem_data의 모든 항목을 곱셈하기 위한 코드)\n",
    "for item in tem_data:\n",
    "    mulScores *= item\n",
    "print(f'{tem_data} 내의 모든 값을 곱하면 {mulScores}가 됩니다.')    \n",
    "\n",
    "# 제곱 연산자 '**'로 기하평균을 도츌합니다.\n",
    "geometricMean1 = mulScores ** (1/len(tem_data)) \n",
    "print(f'해당 데이터의 기하평균 값은 {geometricMean1} 입니다.')"
   ]
  },
  {
   "cell_type": "code",
   "execution_count": 55,
   "metadata": {},
   "outputs": [
    {
     "name": "stdout",
     "output_type": "stream",
     "text": [
      "MEDV의 AGE에 대한 가중평균 값 : 21.112517687880594\n"
     ]
    }
   ],
   "source": [
    "# 가중평균\n",
    "def weight_avg(data, weights, avg):\n",
    "    weight = data[weights]\n",
    "    tem_data = data[avg]\n",
    "\n",
    "    print(f'{avg}의 {weights}에 대한 가중평균 값 :', sum(tem_data * weight)/sum(weight))\n",
    "    \n",
    "weight_avg(data, 'AGE', 'MEDV')\n"
   ]
  },
  {
   "cell_type": "code",
   "execution_count": 67,
   "metadata": {},
   "outputs": [
    {
     "name": "stdout",
     "output_type": "stream",
     "text": [
      "15.0% 비율로 절사한 후 data는 [7, 10, 2, 7, 1, 8, 8, 8, 4, 2, 6, 9, 7, 3]입니다.\n",
      "15.0% 비율로 절사한 후 data의 평균은 5.857142857142857입니다.\n"
     ]
    }
   ],
   "source": [
    "# 인덱스 슬라이싱을 적용하여 tem_data 내에서 절사 시행\n",
    "tem_data = np.random.randint(1, 11, 20).tolist() # 1부터 10까지 random하게 int를 10개 도출\n",
    "\n",
    "# 변수 설정\n",
    "cut = 0.15\n",
    "n = len(tem_data)\n",
    "cut_data = round(n * cut)\n",
    "\n",
    "# 인덱싱 데이터 출력\n",
    "print(f'{cut*100}% 비율로 절사한 후 data는 {tem_data[cut_data : -cut_data]}입니다.')\n",
    "\n",
    "# 인덱싱 후 데이터의 평균 출력\n",
    "print(f'{cut*100}% 비율로 절사한 후 data의 평균은 {np.mean(tem_data[cut_data : -cut_data])}입니다.')"
   ]
  },
  {
   "cell_type": "code",
   "execution_count": 72,
   "metadata": {},
   "outputs": [
    {
     "name": "stdout",
     "output_type": "stream",
     "text": [
      "15.0% 비율로 절사한 후 data는 [7, 10, 2, 7, 1, 8, 8, 8, 4, 2, 6, 9, 7, 3]입니다.\n",
      "15.0% 비율로 절사한 후 data의 평균은 5.857142857142857입니다.\n"
     ]
    }
   ],
   "source": [
    "def cut_mean(cut, data):\n",
    "    # 변수 설정\n",
    "    n = len(tem_data)\n",
    "    cut_data = round(n * cut)\n",
    "\n",
    "    # 인덱싱 데이터 출력\n",
    "    print(f'{cut*100}% 비율로 절사한 후 data는 {tem_data[cut_data : -cut_data]}입니다.')\n",
    "\n",
    "    # 인덱싱 후 데이터의 평균 출력\n",
    "    print(f'{cut*100}% 비율로 절사한 후 data의 평균은 {np.mean(tem_data[cut_data : -cut_data])}입니다.')\n",
    "    \n",
    "# random한 데이터 형성\n",
    "data = np.random.randint(1, 11, 20).tolist()\n",
    "\n",
    "# 함수 적용\n",
    "cut_mean(0.15, data)"
   ]
  },
  {
   "cell_type": "code",
   "execution_count": 81,
   "metadata": {},
   "outputs": [
    {
     "name": "stdout",
     "output_type": "stream",
     "text": [
      "[1, 1, 2, 2, 3, 4, 4, 5, 5, 5, 5, 6, 8, 8, 8, 9, 9, 10, 10, 10]\n",
      "10\n",
      "5.0\n"
     ]
    }
   ],
   "source": [
    "# 하나씩 실행해보는 부분\n",
    "# data 형성\n",
    "data = np.random.randint(1, 11, 20).tolist() \n",
    "\n",
    "# 오름차순으로 정렬한 검거율 데이터를 따로 형성\n",
    "tem_data = sorted(data)\n",
    "print(tem_data)\n",
    "\n",
    "# 검거율 데이터의 길이를 2로 나눈 몫을 출력\n",
    "center = len(tem_data) // 2\n",
    "print(center)\n",
    "\n",
    "# 인덱스로 접근하여 tem_data의 center번째 값과 -center번째 (= center -1 번째) 값을 더한 후 2로 나눠준다.\n",
    "# 참고로 인덱스는 0부터 시작한다.\n",
    "print((tem_data[center] + tem_data[-center - 1])/2)"
   ]
  },
  {
   "cell_type": "code",
   "execution_count": 79,
   "metadata": {},
   "outputs": [
    {
     "name": "stdout",
     "output_type": "stream",
     "text": [
      "[1, 9, 1, 4, 7, 1, 7, 3, 3, 5, 3, 5, 1, 4, 6, 6, 4, 3, 5, 3]\n",
      "해당 데이터의 중위값(median)은 4.0 입니다.\n"
     ]
    }
   ],
   "source": [
    "# 중위값(median) 도출을 위한 함수입니다. (파이썬 함수를 활용한 중위값 출력 부분)\n",
    "def median(data):\n",
    "    print(data)\n",
    "    print(f'해당 데이터의 중위값(median)은 {np.median(data)} 입니다.')\n",
    "    \n",
    "data = np.random.randint(1, 11, 20).tolist()\n",
    "\n",
    "median(data)"
   ]
  },
  {
   "cell_type": "code",
   "execution_count": 4,
   "metadata": {},
   "outputs": [
    {
     "name": "stdout",
     "output_type": "stream",
     "text": [
      "오름차순 정렬한 값 : [7, 10, 13, 15, 15, 16, 16, 16, 19, 19, 21, 23, 24, 29, 31, 32, 39, 39, 42, 43, 47, 47, 49, 51, 53, 54, 54, 56, 62, 63, 63, 65, 69, 69, 74, 75, 79, 80, 81, 82, 83, 85, 87, 92, 94, 94, 96, 96, 98, 99]\n",
      "최소값 : 7\n",
      "최댓값 : 99\n"
     ]
    }
   ],
   "source": [
    "# 오름차순 정렬\n",
    "data = np.random.randint(1, 100, 50).tolist() \n",
    "\n",
    "tmp_data = sorted(data)\n",
    "print(f'오름차순 정렬한 값 : {tmp_data}')\n",
    "\n",
    "# 최솟값과 최댓값 출력\n",
    "print(f'최소값 : {tmp_data[0]}')\n",
    "print(f'최댓값 : {tmp_data[-1]}')"
   ]
  },
  {
   "cell_type": "code",
   "execution_count": 11,
   "metadata": {},
   "outputs": [
    {
     "name": "stdout",
     "output_type": "stream",
     "text": [
      "최솟값 : 5.0\n",
      "최댓값 : 50.0\n",
      "MEDV 데이터의 범위는 최소 5.0에서 최대 50.0로 45.0의 범위를 가지고 있습니다.\n"
     ]
    }
   ],
   "source": [
    "# max, min 매서드 활용\n",
    "print(f'최솟값 : {min(data.MEDV)}')\n",
    "print(f'최댓값 : {max(data.MEDV)}')\n",
    "\n",
    "# 따라서 범위는 최댓값 - 최솟값으로 출력할 수 있음.\n",
    "print(f'MEDV 데이터의 범위는 최소 {min(data.MEDV)}에서 최대 {max(data.MEDV)}로 {round(max(data.MEDV) - min(data.MEDV),2)}의 범위를 가지고 있습니다.')\n"
   ]
  },
  {
   "cell_type": "code",
   "execution_count": 13,
   "metadata": {},
   "outputs": [
    {
     "name": "stdout",
     "output_type": "stream",
     "text": [
      "최솟값 : 5.0\n",
      "최댓값 : 50.0\n",
      "'MEDV' 데이터의 범위는 최소 5.0에서 최대 50.0로 45.0의 범위를 가지고 있습니다.\n"
     ]
    }
   ],
   "source": [
    "def min_max(data, columns):\n",
    "    # print(f'데이터 : {data[columns].tolist()}')\n",
    "    print(f'최솟값 : {min(data[columns])}')\n",
    "    print(f'최댓값 : {max(data[columns])}')\n",
    "    print(f\"'{columns}' 데이터의 범위는 최소 {min(data[columns])}에서 최대 {max(data[columns])}로 {round(max(data[columns]) - min(data[columns]),2)}의 범위를 가지고 있습니다.\")\n",
    "\n",
    "min_max(data, 'MEDV')"
   ]
  },
  {
   "cell_type": "code",
   "execution_count": 15,
   "metadata": {},
   "outputs": [
    {
     "name": "stdout",
     "output_type": "stream",
     "text": [
      "편차의 제곱합의 평균, 즉 분산은 84.41955615616561입니다.\n"
     ]
    }
   ],
   "source": [
    "n = len(data)\n",
    "m = data['MEDV'].mean()\n",
    "\n",
    "# 제곱을 해주는 매서드 pow를 활용하여 편차의 제곱 도출\n",
    "# 편차 = 변량 - 평균\n",
    "resid = pow(data['MEDV'] - m, 2)\n",
    "\n",
    "# 제곱합을 한 후, 변량의 개수로 나눠주면 분산 도출\n",
    "print(f'편차의 제곱합의 평균, 즉 분산은 {sum(resid)/n}입니다.')"
   ]
  },
  {
   "cell_type": "code",
   "execution_count": 3,
   "metadata": {},
   "outputs": [
    {
     "name": "stdout",
     "output_type": "stream",
     "text": [
      "편차의 제곱합의 평균, 즉 분산은 84.41955615616561입니다.\n",
      "표준편차는 9.188011545278206입니다.\n"
     ]
    }
   ],
   "source": [
    "def varianve(data, columns):\n",
    "    n = len(data)\n",
    "    m = data[columns].mean()\n",
    "\n",
    "    # 제곱을 해주는 매서드 pow를 활용하여 편차의 제곱 도출\n",
    "    # 편차 = 변량 - 평균\n",
    "    resid = pow(data[columns]-m, 2)\n",
    "\n",
    "    # 제곱합을 한 후, 변량의 개수로 나눠주면 분산 도출\n",
    "    print(f'편차의 제곱합의 평균, 즉 분산은 {sum(resid)/n}입니다.')\n",
    "    # 분산값에 제곱근은 표준편차\n",
    "    print(f'표준편차는 {pow(sum(resid)/n, 1/2)}입니다.')\n",
    "    \n",
    "varianve(data,'MEDV')"
   ]
  },
  {
   "cell_type": "code",
   "execution_count": 17,
   "metadata": {},
   "outputs": [
    {
     "data": {
      "text/plain": [
       "84.41955615616556"
      ]
     },
     "execution_count": 17,
     "metadata": {},
     "output_type": "execute_result"
    }
   ],
   "source": [
    "np.var(data['MEDV'])"
   ]
  },
  {
   "cell_type": "code",
   "execution_count": 18,
   "metadata": {},
   "outputs": [
    {
     "name": "stdout",
     "output_type": "stream",
     "text": [
      "9.188011545278203\n",
      "9.188011545278203\n"
     ]
    }
   ],
   "source": [
    "# 표쥰편차는 분산의 제곱근입니다.\n",
    "print(pow(np.var(data['MEDV']),1/2))\n",
    "\n",
    "# numpy의 std 매서드를 활용한 표준편차 도출\n",
    "print(np.std((data['MEDV'])))"
   ]
  },
  {
   "cell_type": "code",
   "execution_count": 20,
   "metadata": {},
   "outputs": [
    {
     "name": "stdout",
     "output_type": "stream",
     "text": [
      "왜도 : 1.1048108228646343\n"
     ]
    }
   ],
   "source": [
    "# 변수 설정\n",
    "n = len(data['MEDV'])\n",
    "m = data['MEDV'].mean()\n",
    "std = np.std(data['MEDV'])\n",
    "\n",
    "# 편차/표쥰편차 값에 3제곱 시행 \n",
    "tmp_result = pow((data['MEDV'] - m)/std, 3)\n",
    "# print(f'편차/표쥰편차의 3제곱 : {tmp_result.tolist()}')\n",
    "\n",
    "# 3제곱 한 값을 더하고 데이터 개수만큼 나누면 왜도 도출\n",
    "result = sum(tmp_result)/n\n",
    "print(f'왜도 : {result}')"
   ]
  },
  {
   "cell_type": "code",
   "execution_count": 22,
   "metadata": {},
   "outputs": [
    {
     "data": {
      "text/plain": [
       "1.1048108228646343"
      ]
     },
     "execution_count": 22,
     "metadata": {},
     "output_type": "execute_result"
    }
   ],
   "source": [
    "# 함수화 작업\n",
    "def skewness(data):\n",
    "    n = len(data)\n",
    "    m = data.mean()\n",
    "    std = np.std(data)\n",
    "    \n",
    "    tmp_result = pow((data - m)/std, 3)\n",
    "    result = sum(tmp_result)/n\n",
    "    return result\n",
    "\n",
    "\n",
    "skewness(data['MEDV'])"
   ]
  },
  {
   "cell_type": "code",
   "execution_count": 23,
   "metadata": {},
   "outputs": [
    {
     "name": "stdout",
     "output_type": "stream",
     "text": [
      "1.1080984082549072\n",
      "1.104810822864635\n"
     ]
    }
   ],
   "source": [
    "print(data['MEDV'].skew())\n",
    "\n",
    "# 라이브러리 import로 구한 skew\n",
    "from scipy.stats import skew\n",
    "\n",
    "print(skew(data['MEDV']))"
   ]
  },
  {
   "cell_type": "code",
   "execution_count": 24,
   "metadata": {},
   "outputs": [
    {
     "name": "stdout",
     "output_type": "stream",
     "text": [
      "첨도 : 1.4686287722747418\n"
     ]
    }
   ],
   "source": [
    "# 변수 설정\n",
    "n = len(data['MEDV'])\n",
    "m = data['MEDV'].mean()\n",
    "std = np.std(data['MEDV'])\n",
    "\n",
    "# 편차/표준편차의 4제곱 시행\n",
    "tmp_result = pow(((data['MEDV'] - m) / std), 4)\n",
    "# print(f'편차/표쥰편차의 4제곱 : {tmp_result.tolist()}')\n",
    "\n",
    "# 4제곱 한 값을 더하고 데이터 개수만큼 나누고 -3을 하면 첨도 도출\n",
    "result = sum(tmp_result)/n - 3\n",
    "print(f'첨도 : {result}')"
   ]
  },
  {
   "cell_type": "code",
   "execution_count": 25,
   "metadata": {},
   "outputs": [
    {
     "data": {
      "text/plain": [
       "1.4686287722747418"
      ]
     },
     "execution_count": 25,
     "metadata": {},
     "output_type": "execute_result"
    }
   ],
   "source": [
    "# 함수화\n",
    "def kurtosis_self(data):\n",
    "    n = len(data)\n",
    "    m = data.mean()\n",
    "    std = np.std(data)\n",
    "    \n",
    "    tmp_result = pow(((data - m) / std), 4)\n",
    "    result = sum(tmp_result)/n - 3\n",
    "    return result\n",
    "\n",
    "kurtosis_self(data['MEDV'])"
   ]
  },
  {
   "cell_type": "code",
   "execution_count": 26,
   "metadata": {},
   "outputs": [
    {
     "data": {
      "text/plain": [
       "1.4686287722747462"
      ]
     },
     "execution_count": 26,
     "metadata": {},
     "output_type": "execute_result"
    }
   ],
   "source": [
    "# 라이브러리 import로 구한 kurtosis\n",
    "from scipy.stats import kurtosis\n",
    "\n",
    "kurtosis(data['MEDV'])"
   ]
  },
  {
   "cell_type": "code",
   "execution_count": 29,
   "metadata": {},
   "outputs": [
    {
     "name": "stdout",
     "output_type": "stream",
     "text": [
      "데이터 컬럼 명 'MEDV'의 count는 506.0입니다.\n",
      "데이터 컬럼 명 'MEDV'의 mean는 22.53입니다.\n",
      "데이터 컬럼 명 'MEDV'의 std는 9.2입니다.\n",
      "데이터 컬럼 명 'MEDV'의 std는 9.2입니다.\n",
      "데이터 컬럼 명 'MEDV'의 min는 5.0입니다.\n",
      "데이터 컬럼 명 'MEDV'의 max는 50.0입니다.\n"
     ]
    }
   ],
   "source": [
    "def describe_data(data, column, returns = True):\n",
    "    \"\"\"[summary]\n",
    "\n",
    "    Args:\n",
    "        data ([dataframe]): [데이터프레임 이름을 입력합니다]\n",
    "        column ([string]): [컬럼명을 입력합니다]\n",
    "        returns (bool, optional): [describe()함수를 이용한 출력 결과를 표시하는지 여부입니다.]. 기본값은 True입니다.\n",
    "\n",
    "    Returns:\n",
    "        [type]: [describe()함수를 이용한 출력 결과를 표시]\n",
    "    \"\"\"\n",
    "    \n",
    "    for i in [0,1,2,2,3,7]:\n",
    "        print(f\"데이터 컬럼 명 '{column}'의 {data[column].describe().index[i]}는 {round(data[column].describe()[i],2)}입니다.\")\n",
    "        \n",
    "    if returns == True:\n",
    "        return data[column].describe()\n",
    "    else :\n",
    "        return \n",
    "\n",
    "# describe_data(data, '검거율')\n",
    "describe_data(data, 'MEDV', returns = False)"
   ]
  },
  {
   "cell_type": "code",
   "execution_count": null,
   "metadata": {},
   "outputs": [],
   "source": []
  }
 ],
 "metadata": {
  "interpreter": {
   "hash": "aee8b7b246df8f9039afb4144a1f6fd8d2ca17a180786b69acc140d282b71a49"
  },
  "kernelspec": {
   "display_name": "Python 3.9.4 64-bit",
   "language": "python",
   "name": "python3"
  },
  "language_info": {
   "codemirror_mode": {
    "name": "ipython",
    "version": 3
   },
   "file_extension": ".py",
   "mimetype": "text/x-python",
   "name": "python",
   "nbconvert_exporter": "python",
   "pygments_lexer": "ipython3",
   "version": "3.9.4"
  },
  "orig_nbformat": 4
 },
 "nbformat": 4,
 "nbformat_minor": 2
}
